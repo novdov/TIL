{
 "cells": [
  {
   "cell_type": "code",
   "execution_count": 1,
   "metadata": {
    "collapsed": true
   },
   "outputs": [],
   "source": [
    "from sklearn.decomposition import LatentDirichletAllocation\n",
    "from sklearn.feature_extraction.text import CountVectorizer\n",
    "from sklearn.feature_extraction.text import TfidfTransformer"
   ]
  },
  {
   "cell_type": "code",
   "execution_count": 3,
   "metadata": {},
   "outputs": [],
   "source": [
    "spam_header = \"spam\\t\"\n",
    "no_spam_header = \"ham\\t\"\n",
    "documents = []\n",
    "\n",
    "with open ('./dataset/SMSSpamCollection') as file_handle:\n",
    "    for line in file_handle:\n",
    "        if line.startswith(spam_header):\n",
    "            documents.append(line[len(spam_header):])\n",
    "        elif line.startswith(no_spam_header):\n",
    "            documents.append(line[len(no_spam_header):])\n",
    "            \n",
    "vectorizer = CountVectorizer(stop_words='english', max_features=2000)\n",
    "term_counts = vectorizer.fit_transform(documents)\n",
    "vocabulary = vectorizer.get_feature_names()"
   ]
  },
  {
   "cell_type": "code",
   "execution_count": 5,
   "metadata": {},
   "outputs": [
    {
     "name": "stderr",
     "output_type": "stream",
     "text": [
      "/Users/sunwoongkim/anaconda3/lib/python3.6/site-packages/sklearn/decomposition/online_lda.py:536: DeprecationWarning: The default value for 'learning_method' will be changed from 'online' to 'batch' in the release 0.20. This warning was introduced in 0.18.\n",
      "  DeprecationWarning)\n"
     ]
    },
    {
     "name": "stdout",
     "output_type": "stream",
     "text": [
      "topic 0: gt,lt,great,hope,message,today,day,ve,min,lol,\n",
      "topic 1: new,cos,thanks,things,mins,thk,urgent,class,mind,10,\n",
      "topic 2: got,good,lor,home,work,ask,im,thing,wan,won,\n",
      "topic 3: free,txt,text,stop,mobile,reply,send,ur,week,www,\n",
      "topic 4: know,want,just,ll,dont,need,amp,don,time,let,\n",
      "topic 5: love,sorry,later,dear,happy,ur,life,ll,meet,night,\n",
      "topic 6: ok,come,like,da,day,oh,hi,said,care,leave,\n",
      "topic 7: time,pls,really,number,hey,wat,just,buy,babe,ya,\n",
      "topic 8: ur,going,tell,did,tomorrow,wish,msg,morning,haha,miss,\n",
      "topic 9: think,yeah,don,right,getting,shit,problem,ll,yo,guys,\n"
     ]
    }
   ],
   "source": [
    "topic_model = LatentDirichletAllocation(n_components=10)\n",
    "topic_model.fit(term_counts)\n",
    "\n",
    "topics = topic_model.components_\n",
    "for topic_id, weights in enumerate(topics):\n",
    "    print(\"topic {}\".format(topic_id), end=\": \")\n",
    "    pairs = []\n",
    "    for term_id, value in enumerate(weights):\n",
    "        pairs.append((abs(value), vocabulary[term_id]))\n",
    "    pairs.sort(key=lambda x: x[0], reverse=True)\n",
    "    for pair in pairs[:10]:\n",
    "        print(pair[1], end=\",\")\n",
    "    print()"
   ]
  },
  {
   "cell_type": "code",
   "execution_count": null,
   "metadata": {
    "collapsed": true
   },
   "outputs": [],
   "source": []
  }
 ],
 "metadata": {
  "kernelspec": {
   "display_name": "Python 3",
   "language": "python",
   "name": "python3"
  },
  "language_info": {
   "codemirror_mode": {
    "name": "ipython",
    "version": 3
   },
   "file_extension": ".py",
   "mimetype": "text/x-python",
   "name": "python",
   "nbconvert_exporter": "python",
   "pygments_lexer": "ipython3",
   "version": "3.6.3"
  }
 },
 "nbformat": 4,
 "nbformat_minor": 2
}
