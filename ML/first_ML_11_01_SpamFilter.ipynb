{
 "cells": [
  {
   "cell_type": "code",
   "execution_count": 11,
   "metadata": {
    "collapsed": true
   },
   "outputs": [],
   "source": [
    "import numpy as np"
   ]
  },
  {
   "cell_type": "code",
   "execution_count": 12,
   "metadata": {
    "collapsed": true
   },
   "outputs": [],
   "source": [
    "# 단어집\n",
    "\n",
    "vocabulary = {}\n",
    "with open('./dataset/SMSSpamCollection') as file_handle:\n",
    "    for line in file_handle:\n",
    "        splits = line.split()\n",
    "        label = splits[0]\n",
    "        text = splits[1:]\n",
    "        \n",
    "        for word in text:\n",
    "            lower = word.lower()\n",
    "            if not word in vocabulary:\n",
    "                vocabulary[word] = len(vocabulary) # 각 단어에 넘버링"
   ]
  },
  {
   "cell_type": "code",
   "execution_count": 13,
   "metadata": {},
   "outputs": [
    {
     "data": {
      "text/plain": [
       "15733"
      ]
     },
     "execution_count": 13,
     "metadata": {},
     "output_type": "execute_result"
    }
   ],
   "source": [
    "# Number of words\n",
    "len(vocabulary)"
   ]
  },
  {
   "cell_type": "code",
   "execution_count": 14,
   "metadata": {
    "collapsed": true
   },
   "outputs": [],
   "source": [
    "# 단어 빈도 피처\n",
    "\n",
    "features = []\n",
    "with open('./dataset/SMSSpamCollection')as file_handle:\n",
    "    for line in file_handle:\n",
    "        feature = np.zeros(len(vocabulary))\n",
    "        text = splits[1:]\n",
    "        for word in text:\n",
    "            if word == \"Rofl.\": # 에러 처리\n",
    "                word = word[:-1]\n",
    "            lower = word.lower()\n",
    "            feature[vocabulary[lower]] += 1\n",
    "        \n",
    "        feature = feature / sum(feature)\n",
    "        features.append(feature)"
   ]
  },
  {
   "cell_type": "code",
   "execution_count": 15,
   "metadata": {},
   "outputs": [
    {
     "data": {
      "text/plain": [
       "5574"
      ]
     },
     "execution_count": 15,
     "metadata": {},
     "output_type": "execute_result"
    }
   ],
   "source": [
    "len(features)"
   ]
  },
  {
   "cell_type": "code",
   "execution_count": 16,
   "metadata": {
    "collapsed": true
   },
   "outputs": [],
   "source": [
    "labels = []\n",
    "with open('./dataset/SMSSpamCollection') as file_handle:\n",
    "    for line in file_handle:\n",
    "        splits = line.split()\n",
    "        label = splits[0]\n",
    "        if label == \"spam\":\n",
    "            labels.append(1) # 1 for words begin with spam\n",
    "        else:\n",
    "            labels.append(0)"
   ]
  },
  {
   "cell_type": "code",
   "execution_count": 29,
   "metadata": {
    "collapsed": true
   },
   "outputs": [],
   "source": [
    "import pickle\n",
    "from sklearn.feature_extraction.text import CountVectorizer\n",
    "from sklearn.feature_extraction.text import TfidfTransformer\n",
    "\n",
    "spam_header = \"spam\\t\"\n",
    "no_spam_header = \"ham\\t\"\n",
    "documents = []\n",
    "labels = []\n",
    "\n",
    "with open ('./dataset/SMSSpamCollection') as file_handle:\n",
    "    for line in file_handle:\n",
    "        if line.startswith(spam_header):\n",
    "            labels.append(1)\n",
    "            documents.append(line[len(spam_header):])\n",
    "        elif line.startswith(no_spam_header):\n",
    "            labels.append(0)\n",
    "            documents.append(line[len(no_spam_header):])\n",
    "            \n",
    "vectorizer = CountVectorizer()\n",
    "term_counts = vectorizer.fit_transform(documents)\n",
    "vocabulary = vectorizer.get_feature_names()\n",
    "\n",
    "tf_transformer = TfidfTransformer(use_idf=False).fit(term_counts)\n",
    "features = tf_transformer.transform(term_counts)\n",
    "\n",
    "with open ('./dataset/processed.pickle', 'wb') as file_handle:\n",
    "    pickle.dump((vocabulary, features, labels), file_handle)"
   ]
  },
  {
   "cell_type": "code",
   "execution_count": 30,
   "metadata": {},
   "outputs": [
    {
     "data": {
      "text/plain": [
       "(5574, 8713)"
      ]
     },
     "execution_count": 30,
     "metadata": {},
     "output_type": "execute_result"
    }
   ],
   "source": [
    "features.shape"
   ]
  },
  {
   "cell_type": "code",
   "execution_count": 31,
   "metadata": {},
   "outputs": [
    {
     "name": "stdout",
     "output_type": "stream",
     "text": [
      "Train Score: 0.9775\n",
      "Test Score: 0.9663\n"
     ]
    }
   ],
   "source": [
    "from sklearn.linear_model import LogisticRegression\n",
    "from sklearn.model_selection import train_test_split\n",
    "\n",
    "with open('./dataset/processed.pickle', 'rb') as file_handle:\n",
    "    vocabulary, features, labels = pickle.load(file_handle)\n",
    "    \n",
    "labels = np.array(labels)\n",
    "X_train, X_test, y_train, y_test = train_test_split(features, labels)\n",
    "\n",
    "lrclf = LogisticRegression()\n",
    "lrclf.fit(X_train, y_train)\n",
    "print(\"Train Score: {:.4f}\".format(lrclf.score(X_train, y_train)))\n",
    "print(\"Test Score: {:.4f}\".format(lrclf.score(X_test, y_test)))"
   ]
  },
  {
   "cell_type": "code",
   "execution_count": 32,
   "metadata": {},
   "outputs": [
    {
     "name": "stdout",
     "output_type": "stream",
     "text": [
      "score: 4.854228 word: call\n",
      "score: 4.687929 word: txt\n",
      "score: 3.723260 word: free\n",
      "score: 3.289794 word: text\n",
      "score: 3.060820 word: stop\n",
      "score: 3.036895 word: www\n",
      "score: 2.829750 word: 150p\n",
      "score: 2.818706 word: uk\n",
      "score: 2.755340 word: claim\n",
      "score: 2.659738 word: reply\n",
      "score: 2.640322 word: mobile\n",
      "score: 2.559195 word: from\n",
      "score: 2.391166 word: or\n",
      "score: 2.385622 word: to\n",
      "score: 2.335529 word: service\n",
      "score: 2.318410 word: your\n",
      "score: 2.259466 word: my\n",
      "score: 2.243783 word: me\n",
      "score: 2.202420 word: com\n",
      "score: 2.200597 word: prize\n"
     ]
    }
   ],
   "source": [
    "weights = lrclf.coef_[0]\n",
    "pairs = []\n",
    "for idx, value in enumerate(weights):\n",
    "    pairs.append((abs(value), vocabulary[idx]))\n",
    "pairs.sort(key=lambda x: x[0], reverse=True)\n",
    "for pair in pairs[:20]:\n",
    "    print(\"score: {:4f} word: {}\".format(pair[0], pair[1]))"
   ]
  },
  {
   "cell_type": "code",
   "execution_count": null,
   "metadata": {
    "collapsed": true
   },
   "outputs": [],
   "source": []
  }
 ],
 "metadata": {
  "kernelspec": {
   "display_name": "Python 3",
   "language": "python",
   "name": "python3"
  },
  "language_info": {
   "codemirror_mode": {
    "name": "ipython",
    "version": 3
   },
   "file_extension": ".py",
   "mimetype": "text/x-python",
   "name": "python",
   "nbconvert_exporter": "python",
   "pygments_lexer": "ipython3",
   "version": "3.6.3"
  }
 },
 "nbformat": 4,
 "nbformat_minor": 2
}
