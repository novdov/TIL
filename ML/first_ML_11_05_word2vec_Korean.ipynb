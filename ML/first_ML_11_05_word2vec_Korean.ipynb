{
 "cells": [
  {
   "cell_type": "code",
   "execution_count": 1,
   "metadata": {
    "collapsed": true
   },
   "outputs": [],
   "source": [
    "import sys\n",
    "import time\n",
    "import glob\n",
    "import unicodedata\n",
    "from konlpy.tag import Mecab\n",
    "from gensim.models import Word2Vec"
   ]
  },
  {
   "cell_type": "code",
   "execution_count": 19,
   "metadata": {
    "collapsed": true
   },
   "outputs": [],
   "source": [
    "window = 5\n",
    "embedding_size = 200\n",
    "batch_size = 10000\n",
    "iter_ = 10\n",
    "\n",
    "def read_text(fin):\n",
    "    corpus_lst = []\n",
    "#     mecab = Mecab(dicpath='/usr/local/lib/mecab/dic/mecab-ko-dic')\n",
    "    mecab = Mecab()\n",
    "    for line in open(fin):\n",
    "        line = unicodedata.normalize(\"NFKC\", line)\n",
    "        \n",
    "        try:\n",
    "            _ = int(line[0])\n",
    "            corpus_lst.append(' '.join(mecab.nouns(line)))\n",
    "        except ValueError:\n",
    "            if ord(line[0]) >= ord(\"가\") and ord(line[0]) <= ord(\"힇\"):\n",
    "                corpus_lst.append(' '.join(mecab.nouns(line)))\n",
    "            else:\n",
    "                pass\n",
    "    print(\" # of lines in corpus\", len(corpus_lst))\n",
    "    return corpus_lst"
   ]
  },
  {
   "cell_type": "code",
   "execution_count": 20,
   "metadata": {
    "collapsed": true
   },
   "outputs": [],
   "source": [
    "def train_word2vec(corpus_lst, fout_model):\n",
    "    model = Word2Vec(corpus_lst, sg=1, size=embedding_size, window=window, \n",
    "                     min_count=5, workers=3, batch_words=batch_size, iter=iter_)\n",
    "    model.init_sims(replace=True)\n",
    "    model.save(fout_model)\n",
    "    return model"
   ]
  },
  {
   "cell_type": "code",
   "execution_count": 52,
   "metadata": {
    "scrolled": true
   },
   "outputs": [
    {
     "name": "stdout",
     "output_type": "stream",
     "text": [
      " # of lines in corpus 16313\n",
      " # of lines in corpus 16499\n",
      " # of lines in corpus 17451\n",
      " # of lines in corpus 16600\n",
      " # of lines in corpus 16266\n",
      " # of lines in corpus 18171\n",
      " # of lines in corpus 16653\n",
      " # of lines in corpus 15865\n",
      " # of lines in corpus 16597\n",
      " # of lines in corpus 15492\n",
      " # of lines in corpus 13749\n",
      " # of lines in corpus 17329\n",
      " # of lines in corpus 19134\n",
      " # of lines in corpus 17585\n",
      " # of lines in corpus 16022\n",
      " # of lines in corpus 16210\n",
      " # of lines in corpus 15583\n",
      " # of lines in corpus 14330\n",
      " # of lines in corpus 15340\n",
      " # of lines in corpus 16138\n",
      " # of lines in corpus 17771\n",
      " # of lines in corpus 15705\n",
      " # of lines in corpus 17055\n",
      " # of lines in corpus 17440\n",
      " # of lines in corpus 16663\n",
      " # of lines in corpus 13988\n",
      " # of lines in corpus 16752\n",
      " # of lines in corpus 16388\n",
      " # of lines in corpus 17505\n",
      " # of lines in corpus 16985\n",
      " # of lines in corpus 16067\n",
      " # of lines in corpus 15385\n",
      " # of lines in corpus 14931\n",
      " # of lines in corpus 13143\n",
      " # of lines in corpus 17742\n",
      " # of lines in corpus 17884\n",
      " # of lines in corpus 14172\n",
      " # of lines in corpus 17538\n",
      " # of lines in corpus 16918\n",
      " # of lines in corpus 17313\n",
      " # of lines in corpus 16342\n",
      " # of lines in corpus 16937\n",
      " # of lines in corpus 17159\n",
      " # of lines in corpus 17092\n",
      " # of lines in corpus 17506\n",
      " # of lines in corpus 15736\n",
      " # of lines in corpus 16686\n",
      " # of lines in corpus 16540\n",
      " # of lines in corpus 16425\n",
      " # of lines in corpus 17276\n",
      " # of lines in corpus 17585\n",
      " # of lines in corpus 16196\n",
      " # of lines in corpus 17003\n",
      " # of lines in corpus 17990\n",
      " # of lines in corpus 16997\n",
      " # of lines in corpus 16399\n",
      " # of lines in corpus 17098\n",
      " # of lines in corpus 17344\n",
      " # of lines in corpus 18770\n",
      " # of lines in corpus 16924\n",
      " # of lines in corpus 16479\n",
      " # of lines in corpus 15767\n",
      " # of lines in corpus 16631\n",
      " # of lines in corpus 16838\n",
      " # of lines in corpus 15874\n",
      " # of lines in corpus 14685\n",
      " # of lines in corpus 15321\n",
      " # of lines in corpus 17144\n",
      " # of lines in corpus 13154\n",
      " # of lines in corpus 15976\n",
      " # of lines in corpus 18224\n",
      " # of lines in corpus 18256\n",
      " # of lines in corpus 17208\n",
      " # of lines in corpus 14720\n",
      " # of lines in corpus 17010\n",
      " # of lines in corpus 16492\n",
      " # of lines in corpus 15293\n",
      " # of lines in corpus 15167\n",
      " # of lines in corpus 15819\n",
      " # of lines in corpus 17267\n",
      " # of lines in corpus 15056\n",
      " # of lines in corpus 16091\n",
      " # of lines in corpus 17835\n",
      " # of lines in corpus 17222\n",
      " # of lines in corpus 16275\n",
      " # of lines in corpus 16998\n",
      " # of lines in corpus 17582\n",
      " # of lines in corpus 24853\n",
      " # of lines in corpus 16560\n",
      " # of lines in corpus 16134\n",
      " # of lines in corpus 15752\n",
      " # of lines in corpus 15282\n",
      " # of lines in corpus 14986\n",
      " # of lines in corpus 16369\n",
      " # of lines in corpus 16445\n"
     ]
    }
   ],
   "source": [
    "input_pattern = \"../../dev/processed_kowiki/kowiki-latest-pages-articles.xml-*.txt\"\n",
    "fin_li = glob.glob(input_pattern)\n",
    "\n",
    "for fin in fin_li:\n",
    "    corpus_lst = read_text(fin)"
   ]
  },
  {
   "cell_type": "code",
   "execution_count": null,
   "metadata": {
    "collapsed": true
   },
   "outputs": [],
   "source": []
  },
  {
   "cell_type": "code",
   "execution_count": 59,
   "metadata": {
    "collapsed": true
   },
   "outputs": [],
   "source": [
    "model = train_word2vec(corpus_lst, \"word2vec_kowiki\")"
   ]
  },
  {
   "cell_type": "code",
   "execution_count": 84,
   "metadata": {},
   "outputs": [
    {
     "data": {
      "text/plain": [
       "<gensim.models.word2vec.Word2Vec at 0x1a3056e1d0>"
      ]
     },
     "execution_count": 84,
     "metadata": {},
     "output_type": "execute_result"
    }
   ],
   "source": [
    "Word2Vec(corpus_lst)"
   ]
  },
  {
   "cell_type": "code",
   "execution_count": null,
   "metadata": {
    "collapsed": true
   },
   "outputs": [],
   "source": []
  }
 ],
 "metadata": {
  "kernelspec": {
   "display_name": "Python 3",
   "language": "python",
   "name": "python3"
  },
  "language_info": {
   "codemirror_mode": {
    "name": "ipython",
    "version": 3
   },
   "file_extension": ".py",
   "mimetype": "text/x-python",
   "name": "python",
   "nbconvert_exporter": "python",
   "pygments_lexer": "ipython3",
   "version": "3.6.3"
  }
 },
 "nbformat": 4,
 "nbformat_minor": 2
}
