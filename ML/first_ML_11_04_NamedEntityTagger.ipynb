{
 "cells": [
  {
   "cell_type": "markdown",
   "metadata": {},
   "source": [
    "- [Stanford Named Entity Recognizer Download Link](https://nlp.stanford.edu/software/CRF-NER.html#Download)"
   ]
  },
  {
   "cell_type": "code",
   "execution_count": 1,
   "metadata": {
    "collapsed": true
   },
   "outputs": [],
   "source": [
    "from nltk.tag import StanfordNERTagger\n",
    "from nltk.tokenize import word_tokenize\n",
    "\n",
    "STANFORD_NER_CLF_PATH = \"../../dev/stanford-ner-2018-02-27/classifiers/english.muc.7class.distsim.crf.ser.gz\"\n",
    "STANFORD_NER_JAR_PATH = \"../../dev/stanford-ner-2018-02-27/stanford-ner-3.9.1.jar\"\n",
    "\n",
    "ner_tagger = StanfordNERTagger(STANFORD_NER_CLF_PATH, STANFORD_NER_JAR_PATH)"
   ]
  },
  {
   "cell_type": "code",
   "execution_count": 4,
   "metadata": {},
   "outputs": [
    {
     "name": "stdout",
     "output_type": "stream",
     "text": [
      "[('Facebook', 'O'), ('CEO', 'O'), ('Mark', 'PERSON'), ('Zuckerberg', 'PERSON'), ('acknowledged', 'O'), ('a', 'O'), ('range', 'O'), ('of', 'O'), ('mistakes', 'O'), ('on', 'O'), ('Wednesday', 'DATE'), (',', 'O'), ('including', 'O'), ('allowing', 'O'), ('most', 'O'), ('of', 'O'), ('its', 'O'), ('two', 'O'), ('billion', 'O'), ('users', 'O'), ('to', 'O'), ('have', 'O'), ('their', 'O'), ('public', 'O'), ('profile', 'O'), ('data', 'O'), ('scraped', 'O'), ('by', 'O'), ('outsiders', 'O'), ('.', 'O'), ('However', 'O'), (',', 'O'), ('even', 'O'), ('as', 'O'), ('he', 'O'), ('took', 'O'), ('responsibility', 'O'), (',', 'O'), ('he', 'O'), ('maintained', 'O'), ('he', 'O'), ('was', 'O'), ('the', 'O'), ('best', 'O'), ('person', 'O'), ('to', 'O'), ('fix', 'O'), ('the', 'O'), ('problems', 'O'), ('he', 'O'), ('created', 'O'), ('.', 'O')]\n"
     ]
    }
   ],
   "source": [
    "text = \"\"\"Facebook CEO Mark Zuckerberg acknowledged a range of mistakes on Wednesday, \n",
    "including allowing most of its two billion users to have their public profile data scraped by outsiders. \n",
    "However, even as he took responsibility, he maintained he was the best person to fix the problems he created.\"\"\"\n",
    "\n",
    "tokens = word_tokenize(text)\n",
    "print(ner_tagger.tag(tokens))"
   ]
  },
  {
   "cell_type": "code",
   "execution_count": 5,
   "metadata": {},
   "outputs": [
    {
     "name": "stdout",
     "output_type": "stream",
     "text": [
      "Mark, Zuckerberg\n"
     ]
    }
   ],
   "source": [
    "people = []\n",
    "for token in ner_tagger.tag(tokens):\n",
    "    if token[1] == \"PERSON\":\n",
    "        people.append(token[0])\n",
    "print(', '.join(people))"
   ]
  },
  {
   "cell_type": "code",
   "execution_count": null,
   "metadata": {
    "collapsed": true
   },
   "outputs": [],
   "source": []
  }
 ],
 "metadata": {
  "kernelspec": {
   "display_name": "Python 3",
   "language": "python",
   "name": "python3"
  },
  "language_info": {
   "codemirror_mode": {
    "name": "ipython",
    "version": 3
   },
   "file_extension": ".py",
   "mimetype": "text/x-python",
   "name": "python",
   "nbconvert_exporter": "python",
   "pygments_lexer": "ipython3",
   "version": "3.6.3"
  }
 },
 "nbformat": 4,
 "nbformat_minor": 2
}
