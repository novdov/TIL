{
 "cells": [
  {
   "cell_type": "code",
   "execution_count": 1,
   "metadata": {},
   "outputs": [
    {
     "name": "stdout",
     "output_type": "stream",
     "text": [
      "Successfully downloaded train-images-idx3-ubyte.gz 9912422 bytes.\n",
      "Extracting ./mnist/data/train-images-idx3-ubyte.gz\n",
      "Successfully downloaded train-labels-idx1-ubyte.gz 28881 bytes.\n",
      "Extracting ./mnist/data/train-labels-idx1-ubyte.gz\n",
      "Successfully downloaded t10k-images-idx3-ubyte.gz 1648877 bytes.\n",
      "Extracting ./mnist/data/t10k-images-idx3-ubyte.gz\n",
      "Successfully downloaded t10k-labels-idx1-ubyte.gz 4542 bytes.\n",
      "Extracting ./mnist/data/t10k-labels-idx1-ubyte.gz\n"
     ]
    }
   ],
   "source": [
    "import tensorflow as tf\n",
    "from tensorflow.examples.tutorials.mnist import input_data\n",
    "mnist = input_data.read_data_sets('./mnist/data/', one_hot=True)"
   ]
  },
  {
   "cell_type": "code",
   "execution_count": 5,
   "metadata": {
    "collapsed": true
   },
   "outputs": [],
   "source": [
    "X = tf.placeholder(tf.float32, [None, 784])\n",
    "Y = tf.placeholder(tf.float32, [None, 10])\n",
    "\n",
    "W1 = tf.Variable(tf.random_normal([784, 256], stddev=0.01))\n",
    "b1 = tf.Variable(tf.zeros([256]))\n",
    "L1 = tf.nn.relu(tf.add(tf.matmul(X, W1), b1))\n",
    "\n",
    "W2 = tf.Variable(tf.random_normal([256, 256], stddev=0.01))\n",
    "b2 = tf.Variable(tf.zeros([256]))\n",
    "L2 = tf.nn.relu(tf.add(tf.matmul(L1, W2), b2))\n",
    "\n",
    "W3 = tf.Variable(tf.random_normal([256, 10], stddev=0.01))\n",
    "b3 = tf.Variable(tf.zeros([10]))\n",
    "model = tf.add(tf.matmul(L2, W3), b3)\n",
    "\n",
    "cost = tf.reduce_mean(tf.nn.softmax_cross_entropy_with_logits_v2(\n",
    "    logits=model, labels=Y))\n",
    "\n",
    "optimizer = tf.train.AdamOptimizer(learning_rate=0.001).minimize(cost)"
   ]
  },
  {
   "cell_type": "code",
   "execution_count": 6,
   "metadata": {
    "collapsed": true
   },
   "outputs": [],
   "source": [
    "init = tf.global_variables_initializer()\n",
    "sess = tf.Session()\n",
    "sess.run(init)"
   ]
  },
  {
   "cell_type": "code",
   "execution_count": 10,
   "metadata": {
    "scrolled": true
   },
   "outputs": [
    {
     "name": "stdout",
     "output_type": "stream",
     "text": [
      "Epoch: 0001 Avg. cost: 0.008\n",
      "Epoch: 0002 Avg. cost: 0.009\n",
      "Epoch: 0003 Avg. cost: 0.005\n",
      "Epoch: 0004 Avg. cost: 0.008\n",
      "Epoch: 0005 Avg. cost: 0.007\n",
      "Epoch: 0006 Avg. cost: 0.004\n",
      "Epoch: 0007 Avg. cost: 0.012\n",
      "Epoch: 0008 Avg. cost: 0.005\n",
      "Epoch: 0009 Avg. cost: 0.004\n",
      "Epoch: 0010 Avg. cost: 0.006\n",
      "Epoch: 0011 Avg. cost: 0.008\n",
      "Epoch: 0012 Avg. cost: 0.004\n",
      "Epoch: 0013 Avg. cost: 0.004\n",
      "Epoch: 0014 Avg. cost: 0.006\n",
      "Epoch: 0015 Avg. cost: 0.005\n",
      "Optimization completed!\n"
     ]
    }
   ],
   "source": [
    "batch_size = 100\n",
    "total_batch = int(mnist.train.num_examples / batch_size)\n",
    "\n",
    "for epoch in range(15):\n",
    "    total_cost = 0\n",
    "    \n",
    "    for i in range(total_batch):\n",
    "        batch_xs, batch_ys = mnist.train.next_batch(batch_size)\n",
    "        \n",
    "        _, cost_val = sess.run([optimizer, cost], \n",
    "                               feed_dict={X: batch_xs, Y: batch_ys})\n",
    "        total_cost += cost_val\n",
    "        \n",
    "    print(\"Epoch: {0:04d}\".format(epoch+1), \n",
    "          \"Avg. cost: {:.3f}\".format(total_cost / total_batch))\n",
    "\n",
    "print(\"Optimization completed!\")"
   ]
  },
  {
   "cell_type": "code",
   "execution_count": 21,
   "metadata": {},
   "outputs": [
    {
     "name": "stdout",
     "output_type": "stream",
     "text": [
      "Accuracy:  0.9788\n"
     ]
    }
   ],
   "source": [
    "is_correct = tf.equal(tf.argmax(model, 1), tf.argmax(Y, 1))\n",
    "accuracy = tf.reduce_mean(tf.cast(is_correct, tf.float32))\n",
    "\n",
    "print(\"Accuracy: \", sess.run(accuracy, feed_dict={X: mnist.test.images, \n",
    "                                                  Y: mnist.test.labels}))"
   ]
  },
  {
   "cell_type": "code",
   "execution_count": 30,
   "metadata": {
    "collapsed": true
   },
   "outputs": [],
   "source": [
    "X = tf.placeholder(tf.float32, [None, 784])\n",
    "Y = tf.placeholder(tf.float32, [None, 10])\n",
    "\n",
    "keep_prob = tf.placeholder(tf.float32)\n",
    "\n",
    "W1 = tf.Variable(tf.random_normal([784, 256], stddev=0.01))\n",
    "b1 = tf.Variable(tf.zeros([256]))\n",
    "L1 = tf.nn.relu(tf.add(tf.matmul(X, W1), b1))\n",
    "L1 = tf.nn.dropout(L1, keep_prob)\n",
    "\n",
    "W2 = tf.Variable(tf.random_normal([256, 256], stddev=0.01))\n",
    "b2 = tf.Variable(tf.zeros([256]))\n",
    "L2 = tf.nn.relu(tf.add(tf.matmul(L1, W2), b2))\n",
    "L2 = tf.nn.dropout(L2, keep_prob)\n",
    "\n",
    "W3 = tf.Variable(tf.random_normal([256, 10], stddev=0.01))\n",
    "b3 = tf.Variable(tf.zeros([10]))\n",
    "model = tf.add(tf.matmul(L2, W3), b3)\n",
    "\n",
    "cost = tf.reduce_mean(tf.nn.softmax_cross_entropy_with_logits_v2(\n",
    "    logits=model, labels=Y))\n",
    "\n",
    "optimizer = tf.train.AdamOptimizer(learning_rate=0.001).minimize(cost)\n"
   ]
  },
  {
   "cell_type": "code",
   "execution_count": 31,
   "metadata": {
    "collapsed": true
   },
   "outputs": [],
   "source": [
    "init = tf.global_variables_initializer()\n",
    "sess = tf.Session()\n",
    "sess.run(init)"
   ]
  },
  {
   "cell_type": "code",
   "execution_count": 32,
   "metadata": {},
   "outputs": [
    {
     "name": "stdout",
     "output_type": "stream",
     "text": [
      "Epoch: 0001 Avg. cost: 0.423\n",
      "Epoch: 0002 Avg. cost: 0.162\n",
      "Epoch: 0003 Avg. cost: 0.116\n",
      "Epoch: 0004 Avg. cost: 0.089\n",
      "Epoch: 0005 Avg. cost: 0.073\n",
      "Epoch: 0006 Avg. cost: 0.060\n",
      "Epoch: 0007 Avg. cost: 0.053\n",
      "Epoch: 0008 Avg. cost: 0.045\n",
      "Epoch: 0009 Avg. cost: 0.043\n",
      "Epoch: 0010 Avg. cost: 0.037\n",
      "Epoch: 0011 Avg. cost: 0.034\n",
      "Epoch: 0012 Avg. cost: 0.032\n",
      "Epoch: 0013 Avg. cost: 0.029\n",
      "Epoch: 0014 Avg. cost: 0.029\n",
      "Epoch: 0015 Avg. cost: 0.026\n",
      "Epoch: 0016 Avg. cost: 0.023\n",
      "Epoch: 0017 Avg. cost: 0.023\n",
      "Epoch: 0018 Avg. cost: 0.022\n",
      "Epoch: 0019 Avg. cost: 0.020\n",
      "Epoch: 0020 Avg. cost: 0.023\n",
      "Epoch: 0021 Avg. cost: 0.019\n",
      "Epoch: 0022 Avg. cost: 0.020\n",
      "Epoch: 0023 Avg. cost: 0.019\n",
      "Epoch: 0024 Avg. cost: 0.018\n",
      "Epoch: 0025 Avg. cost: 0.017\n",
      "Epoch: 0026 Avg. cost: 0.018\n",
      "Epoch: 0027 Avg. cost: 0.015\n",
      "Epoch: 0028 Avg. cost: 0.017\n",
      "Epoch: 0029 Avg. cost: 0.016\n",
      "Epoch: 0030 Avg. cost: 0.014\n",
      "Optimization completed!\n"
     ]
    }
   ],
   "source": [
    "batch_size = 100\n",
    "total_batch = int(mnist.train.num_examples / batch_size)\n",
    "\n",
    "for epoch in range(30):\n",
    "    total_cost = 0\n",
    "    \n",
    "    for i in range(total_batch):\n",
    "        batch_xs, batch_ys = mnist.train.next_batch(batch_size)\n",
    "        \n",
    "        _, cost_val = sess.run([optimizer, cost], \n",
    "                               feed_dict={X: batch_xs, Y: batch_ys, \n",
    "                                          keep_prob: 0.8})\n",
    "        total_cost += cost_val\n",
    "        \n",
    "    print(\"Epoch: {0:04d}\".format(epoch+1), \n",
    "          \"Avg. cost: {:.3f}\".format(total_cost / total_batch))\n",
    "\n",
    "print(\"Optimization completed!\")"
   ]
  },
  {
   "cell_type": "code",
   "execution_count": 33,
   "metadata": {},
   "outputs": [
    {
     "name": "stdout",
     "output_type": "stream",
     "text": [
      "Accuracy:  0.9808\n"
     ]
    }
   ],
   "source": [
    "is_correct = tf.equal(tf.argmax(model, 1), tf.argmax(Y, 1))\n",
    "accuracy = tf.reduce_mean(tf.cast(is_correct, tf.float32))\n",
    "\n",
    "print(\"Accuracy: \", sess.run(accuracy, feed_dict={X: mnist.test.images, \n",
    "                                                  Y: mnist.test.labels, \n",
    "                                                  keep_prob: 1}))"
   ]
  },
  {
   "cell_type": "code",
   "execution_count": 35,
   "metadata": {},
   "outputs": [
    {
     "data": {
      "image/png": "[encoded data removed]",
      "text/plain": [
       "<matplotlib.figure.Figure at 0x1c291910f0>"
      ]
     },
     "metadata": {
      "image/png": {
       "height": 207,
       "width": 352
      }
     },
     "output_type": "display_data"
    }
   ],
   "source": [
    "import matplotlib.pyplot as plt\n",
    "\n",
    "labels = sess.run(model, feed_dict={X: mnist.test.images, \n",
    "                                    Y: mnist.test.labels, \n",
    "                                    keep_prob: 1})\n",
    "\n",
    "fig = plt.figure()\n",
    "\n",
    "for i in range(10):\n",
    "    subplot = fig.add_subplot(2, 5, i+1)\n",
    "    subplot.set_xticks([])\n",
    "    subplot.set_yticks([])\n",
    "    subplot.set_title(\"{}\".format(np.argmax(labels[i])))\n",
    "    subplot.imshow(mnist.test.images[i].reshape((28,28)), cmap=plt.cm.gray_r)\n",
    "plt.show()"
   ]
  },
  {
   "cell_type": "code",
   "execution_count": null,
   "metadata": {
    "collapsed": true
   },
   "outputs": [],
   "source": []
  }
 ],
 "metadata": {
  "kernelspec": {
   "display_name": "Python 3",
   "language": "python",
   "name": "python3"
  },
  "language_info": {
   "codemirror_mode": {
    "name": "ipython",
    "version": 3
   },
   "file_extension": ".py",
   "mimetype": "text/x-python",
   "name": "python",
   "nbconvert_exporter": "python",
   "pygments_lexer": "ipython3",
   "version": "3.6.3"
  }
 },
 "nbformat": 4,
 "nbformat_minor": 2
}
