{
 "cells": [
  {
   "cell_type": "code",
   "execution_count": 1,
   "metadata": {
    "collapsed": true
   },
   "outputs": [],
   "source": [
    "import tensorflow as tf\n",
    "import numpy as np"
   ]
  },
  {
   "cell_type": "code",
   "execution_count": 2,
   "metadata": {
    "collapsed": true
   },
   "outputs": [],
   "source": [
    "char_arr = [\"a\", \"b\", \"c\", \"d\", \"e\", \"f\", \"g\", \n",
    "            \"h\", \"i\", \"j\", \"k\", \"l\", \"m\", \"n\", \n",
    "            \"o\", \"p\", \"q\", \"r\", \"s\", \"t\", \"u\", \n",
    "            \"v\", \"w\", \"x\", \"y\", \"z\"]\n",
    "\n",
    "num_dic = {n: i for i, n in enumerate(char_arr)}\n",
    "dic_len = len(num_dic)"
   ]
  },
  {
   "cell_type": "code",
   "execution_count": 3,
   "metadata": {
    "collapsed": true
   },
   "outputs": [],
   "source": [
    "seq_data = [\"word\", \"wood\", \"deep\", \"dive\", \"cold\", \n",
    "            \"cool\", \"load\", \"love\", \"kiss\", \"kind\"]"
   ]
  },
  {
   "cell_type": "code",
   "execution_count": 7,
   "metadata": {
    "collapsed": true
   },
   "outputs": [],
   "source": [
    "def make_batch(seq_data):\n",
    "    input_batch = []\n",
    "    target_batch = []\n",
    "    \n",
    "    for seq in seq_data:\n",
    "        input_ = [num_dic[n] for n in seq[:-1]]\n",
    "        target = num_dic[seq[-1]]\n",
    "        input_batch.append(np.eye(dic_len)[input_])\n",
    "        target_batch.append(target)\n",
    "        \n",
    "    return input_batch, target_batch"
   ]
  },
  {
   "cell_type": "code",
   "execution_count": 5,
   "metadata": {},
   "outputs": [],
   "source": [
    "learning_rate = 0.01\n",
    "n_hidden = 128\n",
    "total_epoch = 30\n",
    "\n",
    "n_step = 3\n",
    "n_input = n_class = dic_len\n",
    "\n",
    "X = tf.placeholder(tf.float32, [None, n_step, n_input])\n",
    "Y = tf.placeholder(tf.int32, [None])\n",
    "\n",
    "W = tf.Variable(tf.random_normal([n_hidden, n_class]))\n",
    "b = tf.Variable(tf.random_normal([n_class]))\n",
    "\n",
    "cell1 = tf.nn.rnn_cell.BasicLSTMCell(n_hidden)\n",
    "cell1 = tf.nn.rnn_cell.DropoutWrapper(cell1, output_keep_prob=0.5)\n",
    "cell2 = tf.nn.rnn_cell.BasicLSTMCell(n_hidden)\n",
    "\n",
    "multi_cell = tf.nn.rnn_cell.MultiRNNCell([cell1, cell2])\n",
    "\n",
    "outputs, states = tf.nn.dynamic_rnn(multi_cell, X, dtype=tf.float32)\n",
    "\n",
    "outputs = tf.transpose(outputs, [1, 0, 2])\n",
    "outputs = outputs[-1]\n",
    "model = tf.matmul(outputs, W) + b\n",
    "\n",
    "cost = tf.reduce_mean(tf.nn.sparse_softmax_cross_entropy_with_logits(\n",
    "    logits=model, labels=Y))\n",
    "\n",
    "optimizer = tf.train.AdamOptimizer(learning_rate).minimize(cost)"
   ]
  },
  {
   "cell_type": "code",
   "execution_count": 9,
   "metadata": {},
   "outputs": [
    {
     "name": "stdout",
     "output_type": "stream",
     "text": [
      "Epoch: 0001 Cost: 4.105891\n",
      "Epoch: 0002 Cost: 3.192192\n",
      "Epoch: 0003 Cost: 1.706254\n",
      "Epoch: 0004 Cost: 1.412473\n",
      "Epoch: 0005 Cost: 0.910616\n",
      "Epoch: 0006 Cost: 0.455543\n",
      "Epoch: 0007 Cost: 0.804012\n",
      "Epoch: 0008 Cost: 0.399443\n",
      "Epoch: 0009 Cost: 0.407940\n",
      "Epoch: 0010 Cost: 0.269022\n",
      "Epoch: 0011 Cost: 0.190012\n",
      "Epoch: 0012 Cost: 0.430488\n",
      "Epoch: 0013 Cost: 0.129308\n",
      "Epoch: 0014 Cost: 0.153969\n",
      "Epoch: 0015 Cost: 0.095906\n",
      "Epoch: 0016 Cost: 0.296049\n",
      "Epoch: 0017 Cost: 0.070573\n",
      "Epoch: 0018 Cost: 0.411647\n",
      "Epoch: 0019 Cost: 0.061635\n",
      "Epoch: 0020 Cost: 0.013756\n",
      "Epoch: 0021 Cost: 0.423486\n",
      "Epoch: 0022 Cost: 0.029293\n",
      "Epoch: 0023 Cost: 0.078512\n",
      "Epoch: 0024 Cost: 0.083243\n",
      "Epoch: 0025 Cost: 0.015184\n",
      "Epoch: 0026 Cost: 0.080323\n",
      "Epoch: 0027 Cost: 0.057226\n",
      "Epoch: 0028 Cost: 0.015416\n",
      "Epoch: 0029 Cost: 0.003906\n",
      "Epoch: 0030 Cost: 0.009726\n",
      "Optimization completed!\n"
     ]
    }
   ],
   "source": [
    "sess = tf.Session()\n",
    "sess.run(tf.global_variables_initializer())\n",
    "\n",
    "input_batch, target_batch = make_batch(seq_data)\n",
    "\n",
    "for epoch in range(total_epoch):\n",
    "    _, loss = sess.run([optimizer, cost], \n",
    "                       feed_dict={X: input_batch, Y: target_batch})\n",
    "    \n",
    "    print(\"Epoch:\", \"{:04d}\".format(epoch+1), \n",
    "          \"Cost:\", \"{:.6f}\".format(loss))\n",
    "    \n",
    "print(\"Optimization completed!\")"
   ]
  },
  {
   "cell_type": "code",
   "execution_count": 12,
   "metadata": {},
   "outputs": [
    {
     "name": "stdout",
     "output_type": "stream",
     "text": [
      "\n",
      "=== prediction ===\n",
      "input: ['wor ', 'woo ', 'dee ', 'div ', 'col ', 'coo ', 'loa ', 'lov ', 'kis ', 'kin ']\n",
      "prediction: ['word', 'wood', 'deep', 'dive', 'cold', 'cool', 'load', 'love', 'kiss', 'kind']\n",
      "accuracy: 1.0\n"
     ]
    }
   ],
   "source": [
    "prediction = tf.cast(tf.argmax(model, 1), tf.int32)\n",
    "prediction_check = tf.equal(prediction, Y)\n",
    "accuracy = tf.reduce_mean(tf.cast(prediction_check, tf.float32))\n",
    "\n",
    "input_batch, target_batch = make_batch(seq_data)\n",
    "\n",
    "predict, accuracy_val = sess.run([prediction, accuracy], \n",
    "                                 feed_dict={X: input_batch, Y: target_batch})\n",
    "\n",
    "predict_words = []\n",
    "\n",
    "for idx, val in enumerate(seq_data):\n",
    "    last_char = char_arr[predict[idx]]\n",
    "    predict_words.append(val[:3] + last_char)\n",
    "    \n",
    "print(\"\\n=== prediction ===\")\n",
    "print(\"input:\", [w[:3] + ' ' for w in seq_data])\n",
    "print(\"prediction:\", predict_words)\n",
    "print(\"accuracy:\", accuracy_val)"
   ]
  },
  {
   "cell_type": "code",
   "execution_count": null,
   "metadata": {
    "collapsed": true
   },
   "outputs": [],
   "source": []
  },
  {
   "cell_type": "code",
   "execution_count": null,
   "metadata": {
    "collapsed": true
   },
   "outputs": [],
   "source": []
  },
  {
   "cell_type": "code",
   "execution_count": null,
   "metadata": {
    "collapsed": true
   },
   "outputs": [],
   "source": []
  },
  {
   "cell_type": "code",
   "execution_count": null,
   "metadata": {
    "collapsed": true
   },
   "outputs": [],
   "source": []
  }
 ],
 "metadata": {
  "kernelspec": {
   "display_name": "Python 3",
   "language": "python",
   "name": "python3"
  },
  "language_info": {
   "codemirror_mode": {
    "name": "ipython",
    "version": 3
   },
   "file_extension": ".py",
   "mimetype": "text/x-python",
   "name": "python",
   "nbconvert_exporter": "python",
   "pygments_lexer": "ipython3",
   "version": "3.6.3"
  }
 },
 "nbformat": 4,
 "nbformat_minor": 2
}
