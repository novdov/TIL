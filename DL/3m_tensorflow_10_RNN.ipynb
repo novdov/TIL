{
 "cells": [
  {
   "cell_type": "code",
   "execution_count": 1,
   "metadata": {},
   "outputs": [
    {
     "name": "stdout",
     "output_type": "stream",
     "text": [
      "Extracting ../mnist/data/train-images-idx3-ubyte.gz\n",
      "Extracting ../mnist/data/train-labels-idx1-ubyte.gz\n",
      "Extracting ../mnist/data/t10k-images-idx3-ubyte.gz\n",
      "Extracting ../mnist/data/t10k-labels-idx1-ubyte.gz\n"
     ]
    }
   ],
   "source": [
    "import tensorflow as tf\n",
    "\n",
    "from tensorflow.examples.tutorials.mnist import input_data\n",
    "mnist = input_data.read_data_sets(\"../mnist/data/\", one_hot=True)"
   ]
  },
  {
   "cell_type": "code",
   "execution_count": 2,
   "metadata": {
    "collapsed": true
   },
   "outputs": [],
   "source": [
    "learning_rate = 0.001\n",
    "total_epoch = 30\n",
    "batch_size = 128\n",
    "\n",
    "n_input = 28\n",
    "n_step = 28\n",
    "n_hidden = 128\n",
    "n_class = 10\n",
    "\n",
    "X = tf.placeholder(tf.float32, [None, n_step, n_input])\n",
    "Y = tf.placeholder(tf.float32, [None, n_class])\n",
    "W = tf.Variable(tf.random_normal([n_hidden, n_class]))\n",
    "b = tf.Variable(tf.random_normal([n_class]))"
   ]
  },
  {
   "cell_type": "code",
   "execution_count": 3,
   "metadata": {},
   "outputs": [],
   "source": [
    "cell = tf.nn.rnn_cell.BasicRNNCell(n_hidden)\n",
    "\n",
    "outputs, states = tf.nn.dynamic_rnn(cell, X, dtype=tf.float32)\n",
    "\n",
    "outputs = tf.transpose(outputs, [1, 0, 2])\n",
    "outputs = outputs[-1]\n",
    "\n",
    "model = tf.matmul(outputs, W) + b\n",
    "\n",
    "cost = tf.reduce_mean(tf.nn.softmax_cross_entropy_with_logits_v2(\n",
    "    logits=model, labels=Y))\n",
    "optimizer = tf.train.AdamOptimizer(learning_rate).minimize(cost)"
   ]
  },
  {
   "cell_type": "code",
   "execution_count": 4,
   "metadata": {},
   "outputs": [
    {
     "name": "stdout",
     "output_type": "stream",
     "text": [
      "Epoch:    1 Avg. Cost:, 0.505\n",
      "Epoch:    2 Avg. Cost:, 0.238\n",
      "Epoch:    3 Avg. Cost:, 0.175\n",
      "Epoch:    4 Avg. Cost:, 0.149\n",
      "Epoch:    5 Avg. Cost:, 0.139\n",
      "Epoch:    6 Avg. Cost:, 0.127\n",
      "Epoch:    7 Avg. Cost:, 0.119\n",
      "Epoch:    8 Avg. Cost:, 0.110\n",
      "Epoch:    9 Avg. Cost:, 0.109\n",
      "Epoch:   10 Avg. Cost:, 0.099\n",
      "Epoch:   11 Avg. Cost:, 0.097\n",
      "Epoch:   12 Avg. Cost:, 0.094\n",
      "Epoch:   13 Avg. Cost:, 0.094\n",
      "Epoch:   14 Avg. Cost:, 0.089\n",
      "Epoch:   15 Avg. Cost:, 0.088\n",
      "Epoch:   16 Avg. Cost:, 0.079\n",
      "Epoch:   17 Avg. Cost:, 0.079\n",
      "Epoch:   18 Avg. Cost:, 0.079\n",
      "Epoch:   19 Avg. Cost:, 0.072\n",
      "Epoch:   20 Avg. Cost:, 0.081\n",
      "Epoch:   21 Avg. Cost:, 0.078\n",
      "Epoch:   22 Avg. Cost:, 0.068\n",
      "Epoch:   23 Avg. Cost:, 0.073\n",
      "Epoch:   24 Avg. Cost:, 0.064\n",
      "Epoch:   25 Avg. Cost:, 0.069\n",
      "Epoch:   26 Avg. Cost:, 0.072\n",
      "Epoch:   27 Avg. Cost:, 0.069\n",
      "Epoch:   28 Avg. Cost:, 0.066\n",
      "Epoch:   29 Avg. Cost:, 0.060\n",
      "Epoch:   30 Avg. Cost:, 0.057\n",
      "Optimization completed!\n"
     ]
    }
   ],
   "source": [
    "sess = tf.Session()\n",
    "sess.run(tf.global_variables_initializer())\n",
    "\n",
    "total_batch = int(mnist.train.num_examples / batch_size)\n",
    "\n",
    "for epoch in range(total_epoch):\n",
    "    total_cost = 0\n",
    "    \n",
    "    for i in range(total_batch):\n",
    "        batch_xs, batch_ys = mnist.train.next_batch(batch_size)\n",
    "        \n",
    "        batch_xs = batch_xs.reshape((batch_size, n_step, n_input))\n",
    "        \n",
    "        _, cost_val = sess.run([optimizer, cost], \n",
    "                               feed_dict={X: batch_xs, Y: batch_ys})\n",
    "        \n",
    "        total_cost += cost_val\n",
    "        \n",
    "    print(\"Epoch:\", \"{:04d}\".format(epoch+1), \n",
    "          \"Avg. Cost:, \" \"{:.3f}\".format(total_cost/total_batch))\n",
    "    \n",
    "print(\"Optimization completed!\")"
   ]
  },
  {
   "cell_type": "code",
   "execution_count": 6,
   "metadata": {},
   "outputs": [
    {
     "name": "stdout",
     "output_type": "stream",
     "text": [
      "Accuracy: 0.9709\n"
     ]
    }
   ],
   "source": [
    "is_correct = tf.equal(tf.argmax(model, 1), tf.argmax(Y, 1))\n",
    "accuracy = tf.reduce_mean(tf.cast(is_correct, tf.float32))\n",
    "\n",
    "test_batch_size = len(mnist.test.images)\n",
    "test_xs = mnist.test.images.reshape(test_batch_size, n_step, n_input)\n",
    "test_ys = mnist.test.labels\n",
    "\n",
    "print(\"Accuracy:\", sess.run(accuracy, feed_dict={X: test_xs, Y: test_ys}))"
   ]
  },
  {
   "cell_type": "code",
   "execution_count": null,
   "metadata": {
    "collapsed": true
   },
   "outputs": [],
   "source": []
  },
  {
   "cell_type": "code",
   "execution_count": null,
   "metadata": {
    "collapsed": true
   },
   "outputs": [],
   "source": []
  },
  {
   "cell_type": "code",
   "execution_count": null,
   "metadata": {
    "collapsed": true
   },
   "outputs": [],
   "source": []
  }
 ],
 "metadata": {
  "kernelspec": {
   "display_name": "Python 3",
   "language": "python",
   "name": "python3"
  },
  "language_info": {
   "codemirror_mode": {
    "name": "ipython",
    "version": 3
   },
   "file_extension": ".py",
   "mimetype": "text/x-python",
   "name": "python",
   "nbconvert_exporter": "python",
   "pygments_lexer": "ipython3",
   "version": "3.6.3"
  }
 },
 "nbformat": 4,
 "nbformat_minor": 2
}
