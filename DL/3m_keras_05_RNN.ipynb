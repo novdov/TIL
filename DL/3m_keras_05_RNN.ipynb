{
 "cells": [
  {
   "cell_type": "code",
   "execution_count": 1,
   "metadata": {
    "collapsed": true
   },
   "outputs": [],
   "source": [
    "from __future__ import print_function"
   ]
  },
  {
   "cell_type": "code",
   "execution_count": 2,
   "metadata": {
    "collapsed": true
   },
   "outputs": [],
   "source": [
    "from keras.preprocessing import sequence\n",
    "from keras.datasets import imdb\n",
    "from keras import layers, models"
   ]
  },
  {
   "cell_type": "code",
   "execution_count": 3,
   "metadata": {
    "collapsed": true
   },
   "outputs": [],
   "source": [
    "class Data:\n",
    "    def __init__(self, max_features=20000, maxlen=80):\n",
    "        (X_train, y_train), (X_test, y_test) = imdb.load_data(num_words=max_features)\n",
    "        X_train = sequence.pad_sequences(X_train, maxlen=maxlen)\n",
    "        X_test = sequence.pad_sequences(X_test, maxlen=maxlen)\n",
    "        self.X_train, self.Y_train = X_train, y_train\n",
    "        self.X_test, self.Y_test = X_test, y_test"
   ]
  },
  {
   "cell_type": "code",
   "execution_count": 12,
   "metadata": {
    "collapsed": true
   },
   "outputs": [],
   "source": [
    "class RNN_LSTM(models.Model):\n",
    "    def __init__(self, max_features, maxlen):\n",
    "        x = layers.Input((maxlen,))\n",
    "        h = layers.Embedding(max_features, 128)(x)\n",
    "        h = layers.LSTM(128, dropout=0.2, recurrent_dropout=0.2)(h)\n",
    "        y = layers.Dense(1, activation='sigmoid')(h)\n",
    "        super().__init__(x, y)\n",
    "        \n",
    "        self.compile(loss='binary_crossentropy', \n",
    "                     optimizer='adam', metrics=['accuracy'])"
   ]
  },
  {
   "cell_type": "code",
   "execution_count": 13,
   "metadata": {
    "collapsed": true
   },
   "outputs": [],
   "source": [
    "class Machine:\n",
    "    def __init__(self, max_features=20000, maxlen=80):\n",
    "        self.data = Data(max_features, maxlen)\n",
    "        self.model = RNN_LSTM(max_features, maxlen)\n",
    "        \n",
    "    def run(self, epochs=3, batch_size=32):\n",
    "        data = self.data\n",
    "        model = self.model\n",
    "        print(\"Training stage\")\n",
    "        print(\"---------------------\")\n",
    "        model.fit(data.X_train, data.Y_train, \n",
    "                  batch_size=batch_size, \n",
    "                  epochs=epochs, \n",
    "                  validation_data=(data.X_test, data.Y_test))\n",
    "        \n",
    "        score, acc = model.evaluate(data.X_test, data.Y_test, \n",
    "                                    batch_size=batch_size)\n",
    "        print(\"Test performance: accuracy={}, loss={}\".format(acc, score))"
   ]
  },
  {
   "cell_type": "code",
   "execution_count": 14,
   "metadata": {
    "collapsed": true
   },
   "outputs": [],
   "source": [
    "def main():\n",
    "    m = Machine()\n",
    "    m.run()"
   ]
  },
  {
   "cell_type": "code",
   "execution_count": 15,
   "metadata": {},
   "outputs": [
    {
     "name": "stdout",
     "output_type": "stream",
     "text": [
      "Training stage\n",
      "---------------------\n",
      "Train on 25000 samples, validate on 25000 samples\n",
      "Epoch 1/3\n",
      "25000/25000 [==============================] - 130s 5ms/step - loss: 0.4568 - acc: 0.7826 - val_loss: 0.3926 - val_acc: 0.8266\n",
      "Epoch 2/3\n",
      "25000/25000 [==============================] - 120s 5ms/step - loss: 0.3003 - acc: 0.8768 - val_loss: 0.3746 - val_acc: 0.8364\n",
      "Epoch 3/3\n",
      "25000/25000 [==============================] - 123s 5ms/step - loss: 0.2203 - acc: 0.9142 - val_loss: 0.4089 - val_acc: 0.8306\n",
      "25000/25000 [==============================] - 24s 953us/step\n",
      "Test performance: accuracy=0.83064, loss=0.40888630423545835\n"
     ]
    }
   ],
   "source": [
    "if __name__==\"__main__\":\n",
    "    main()"
   ]
  },
  {
   "cell_type": "code",
   "execution_count": null,
   "metadata": {
    "collapsed": true
   },
   "outputs": [],
   "source": []
  },
  {
   "cell_type": "code",
   "execution_count": null,
   "metadata": {
    "collapsed": true
   },
   "outputs": [],
   "source": []
  }
 ],
 "metadata": {
  "kernelspec": {
   "display_name": "Python 3",
   "language": "python",
   "name": "python3"
  },
  "language_info": {
   "codemirror_mode": {
    "name": "ipython",
    "version": 3
   },
   "file_extension": ".py",
   "mimetype": "text/x-python",
   "name": "python",
   "nbconvert_exporter": "python",
   "pygments_lexer": "ipython3",
   "version": "3.6.3"
  }
 },
 "nbformat": 4,
 "nbformat_minor": 2
}
