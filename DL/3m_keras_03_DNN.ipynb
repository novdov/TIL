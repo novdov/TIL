{
 "cells": [
  {
   "cell_type": "code",
   "execution_count": 1,
   "metadata": {
    "collapsed": true
   },
   "outputs": [],
   "source": [
    "from keras import layers, models\n",
    "\n",
    "Nin = 784\n",
    "Nh_l = [100, 50]\n",
    "number_of_class = 10\n",
    "Nout = number_of_class"
   ]
  },
  {
   "cell_type": "code",
   "execution_count": 10,
   "metadata": {
    "collapsed": true
   },
   "outputs": [],
   "source": [
    "class DNN(models.Sequential):\n",
    "    def __init__(self, Nin, Nh_l, Nout):\n",
    "        super().__init__()\n",
    "        self.add(layers.Dense(Nh_l[0], activation='relu', \n",
    "                              input_shape=(Nin,), name=\"Hidden-1\"))\n",
    "        self.add(layers.Dense(Nh_l[1], activation='relu', name=\"Hidden-2\"))\n",
    "        self.add(layers.Dense(Nout, activation='softmax'))\n",
    "        self.compile(loss='categorical_crossentropy', \n",
    "                     optimizer='adam', metrics=['accuracy'])"
   ]
  },
  {
   "cell_type": "code",
   "execution_count": 12,
   "metadata": {
    "collapsed": true
   },
   "outputs": [],
   "source": [
    "from keras import datasets\n",
    "from keras.utils import np_utils\n",
    "\n",
    "(X_train, y_train), (X_test, y_test) = datasets.mnist.load_data()\n",
    "y_train = np_utils.to_categorical(y_train)\n",
    "y_test = np_utils.to_categorical(y_test)\n",
    "L, W, H = X_train.shape\n",
    "X_train = X_train.reshape(-1, W * H)\n",
    "X_test = X_test.reshape(-1, W * H)\n",
    "X_train = X_train / 255.0\n",
    "X_test = X_test / 255.0"
   ]
  },
  {
   "cell_type": "code",
   "execution_count": 13,
   "metadata": {},
   "outputs": [
    {
     "name": "stdout",
     "output_type": "stream",
     "text": [
      "Train on 48000 samples, validate on 12000 samples\n",
      "Epoch 1/10\n",
      " - 2s - loss: 0.3640 - acc: 0.8958 - val_loss: 0.1777 - val_acc: 0.9493\n",
      "Epoch 2/10\n",
      " - 1s - loss: 0.1551 - acc: 0.9544 - val_loss: 0.1319 - val_acc: 0.9615\n",
      "Epoch 3/10\n",
      " - 1s - loss: 0.1095 - acc: 0.9680 - val_loss: 0.1179 - val_acc: 0.9647\n",
      "Epoch 4/10\n",
      " - 1s - loss: 0.0832 - acc: 0.9753 - val_loss: 0.1034 - val_acc: 0.9688\n",
      "Epoch 5/10\n",
      " - 1s - loss: 0.0671 - acc: 0.9794 - val_loss: 0.0996 - val_acc: 0.9691\n",
      "Epoch 6/10\n",
      " - 1s - loss: 0.0533 - acc: 0.9842 - val_loss: 0.1044 - val_acc: 0.9702\n",
      "Epoch 7/10\n",
      " - 1s - loss: 0.0450 - acc: 0.9862 - val_loss: 0.1021 - val_acc: 0.9696\n",
      "Epoch 8/10\n",
      " - 1s - loss: 0.0373 - acc: 0.9888 - val_loss: 0.1028 - val_acc: 0.9712\n",
      "Epoch 9/10\n",
      " - 1s - loss: 0.0294 - acc: 0.9916 - val_loss: 0.0957 - val_acc: 0.9741\n",
      "Epoch 10/10\n",
      " - 1s - loss: 0.0253 - acc: 0.9924 - val_loss: 0.0903 - val_acc: 0.9753\n",
      "10000/10000 [==============================] - 0s 13us/step\n",
      "Test Loss and Accuracy:  [0.085305371819777071, 0.97530000567436215]\n"
     ]
    }
   ],
   "source": [
    "model = DNN(Nin, Nh_l, Nout)\n",
    "history = model.fit(X_train, y_train, epochs=10, batch_size=100, validation_split=0.2, verbose=2)\n",
    "performance_test = model.evaluate(X_test, y_test, batch_size=100)\n",
    "print(\"Test Loss and Accuracy: \", performance_test)"
   ]
  },
  {
   "cell_type": "code",
   "execution_count": null,
   "metadata": {
    "collapsed": true
   },
   "outputs": [],
   "source": []
  },
  {
   "cell_type": "code",
   "execution_count": null,
   "metadata": {
    "collapsed": true
   },
   "outputs": [],
   "source": []
  }
 ],
 "metadata": {
  "kernelspec": {
   "display_name": "Python 3",
   "language": "python",
   "name": "python3"
  },
  "language_info": {
   "codemirror_mode": {
    "name": "ipython",
    "version": 3
   },
   "file_extension": ".py",
   "mimetype": "text/x-python",
   "name": "python",
   "nbconvert_exporter": "python",
   "pygments_lexer": "ipython3",
   "version": "3.6.3"
  }
 },
 "nbformat": 4,
 "nbformat_minor": 2
}
