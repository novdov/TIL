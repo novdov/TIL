{
  "nbformat": 4,
  "nbformat_minor": 0,
  "metadata": {
    "colab": {
      "name": "3m_tensorflow_09_02.ipynb",
      "version": "0.3.2",
      "provenance": [],
      "collapsed_sections": []
    },
    "kernelspec": {
      "name": "python3",
      "display_name": "Python 3"
    },
    "accelerator": "GPU"
  },
  "cells": [
    {
      "cell_type": "markdown",
      "metadata": {
        "id": "view-in-github",
        "colab_type": "text"
      },
      "source": [
        "[View in Colaboratory](https://colab.research.google.com/github/novdov/study/blob/master/3m_tensorflow_09_02.ipynb)"
      ]
    },
    {
      "metadata": {
        "id": "F80rQQLNaMkI",
        "colab_type": "code",
        "colab": {}
      },
      "cell_type": "code",
      "source": [
        "import tensorflow as tf\n",
        "import matplotlib.pyplot as plt\n",
        "import numpy as np\n",
        "\n",
        "%matplotlib inline"
      ],
      "execution_count": 0,
      "outputs": []
    },
    {
      "metadata": {
        "id": "XskpMlrRzIfX",
        "colab_type": "code",
        "colab": {
          "base_uri": "https://localhost:8080/",
          "height": 85
        },
        "outputId": "6d3129b5-52a1-47a5-a46e-e9c7d9975642"
      },
      "cell_type": "code",
      "source": [
        "from tensorflow.examples.tutorials.mnist import input_data\n",
        "mnist = input_data.read_data_sets(\"./mnist/data\", one_hot=True)"
      ],
      "execution_count": 2,
      "outputs": [
        {
          "output_type": "stream",
          "text": [
            "Extracting ./mnist/data/train-images-idx3-ubyte.gz\n",
            "Extracting ./mnist/data/train-labels-idx1-ubyte.gz\n",
            "Extracting ./mnist/data/t10k-images-idx3-ubyte.gz\n",
            "Extracting ./mnist/data/t10k-labels-idx1-ubyte.gz\n"
          ],
          "name": "stdout"
        }
      ]
    },
    {
      "metadata": {
        "id": "9B8s5stpzV-3",
        "colab_type": "code",
        "colab": {}
      },
      "cell_type": "code",
      "source": [
        "total_epoch = 100\n",
        "batch_size = 100\n",
        "n_hidden = 256\n",
        "n_input = 28 * 28\n",
        "n_noise = 128\n",
        "n_class = 10\n",
        "\n",
        "X = tf.placeholder(tf.float32, [None, n_input])\n",
        "Y = tf.placeholder(tf.float32, [None, n_class])\n",
        "Z = tf.placeholder(tf.float32, [None, n_noise])\n",
        "\n",
        "def generator(noise, labels):\n",
        "    with tf.variable_scope(\"generator\"):\n",
        "        inputs = tf.concat([noise, labels], 1)\n",
        "        \n",
        "        hidden = tf.layers.dense(inputs, n_hidden, \n",
        "                                 activation=tf.nn.relu)\n",
        "        output = tf.layers.dense(hidden, n_input, \n",
        "                                 activation=tf.nn.sigmoid)\n",
        "    return output\n",
        "\n",
        "def discriminator(inputs, labels, reuse=None):\n",
        "    with tf.variable_scope(\"discriminator\") as scope:\n",
        "        if reuse:\n",
        "            scope.reuse_variables()\n",
        "            \n",
        "        inputs = tf.concat([inputs, labels], 1)\n",
        "        hidden = tf.layers.dense(inputs, n_hidden, \n",
        "                                 activation=tf.nn.relu)\n",
        "        output = tf.layers.dense(hidden, 1, \n",
        "                                 activation=None)\n",
        "    return output\n",
        "\n",
        "def get_noise(batch_size, n_noise):\n",
        "    return np.random.uniform(-1., 1., size=[batch_size, n_noise])\n",
        "\n",
        "G = generator(Z, Y)\n",
        "D_real = discriminator(X, Y)\n",
        "D_gene = discriminator(G, Y, True)\n",
        "\n",
        "loss_D_real = tf.reduce_mean(\n",
        "    tf.nn.sigmoid_cross_entropy_with_logits(\n",
        "        logits=D_real, labels=tf.ones_like(D_real)))\n",
        "loss_D_gene = tf.reduce_mean(\n",
        "    tf.nn.sigmoid_cross_entropy_with_logits(\n",
        "        logits=D_gene, labels=tf.zeros_like(D_gene)))\n",
        "\n",
        "loss_D = loss_D_real + loss_D_gene\n",
        "\n",
        "loss_G = tf.reduce_mean(\n",
        "    tf.nn.sigmoid_cross_entropy_with_logits(\n",
        "        logits=D_gene, labels=tf.ones_like(D_gene)))"
      ],
      "execution_count": 0,
      "outputs": []
    },
    {
      "metadata": {
        "id": "oYzLCcHFztnC",
        "colab_type": "code",
        "colab": {}
      },
      "cell_type": "code",
      "source": [
        ""
      ],
      "execution_count": 0,
      "outputs": []
    },
    {
      "metadata": {
        "id": "MCU8QB-L0Kky",
        "colab_type": "code",
        "colab": {}
      },
      "cell_type": "code",
      "source": [
        ""
      ],
      "execution_count": 0,
      "outputs": []
    },
    {
      "metadata": {
        "id": "FvwQ8e5H0vwz",
        "colab_type": "code",
        "colab": {}
      },
      "cell_type": "code",
      "source": [
        ""
      ],
      "execution_count": 0,
      "outputs": []
    },
    {
      "metadata": {
        "id": "KMXvHmbY04d2",
        "colab_type": "code",
        "colab": {}
      },
      "cell_type": "code",
      "source": [
        ""
      ],
      "execution_count": 0,
      "outputs": []
    },
    {
      "metadata": {
        "id": "vs-UhBNr1Uim",
        "colab_type": "code",
        "colab": {}
      },
      "cell_type": "code",
      "source": [
        ""
      ],
      "execution_count": 0,
      "outputs": []
    },
    {
      "metadata": {
        "id": "EOLQtAGz295H",
        "colab_type": "code",
        "colab": {}
      },
      "cell_type": "code",
      "source": [
        ""
      ],
      "execution_count": 0,
      "outputs": []
    },
    {
      "metadata": {
        "id": "OH-w7j393Nyc",
        "colab_type": "code",
        "colab": {}
      },
      "cell_type": "code",
      "source": [
        "vars_D = tf.get_collection(tf.GraphKeys.TRAINABLE_RESOURCE_VARIABLES, \n",
        "                           scope=\"discriminator\")\n",
        "vars_G = tf.get_collection(tf.GraphKeys.TRAINABLE_RESOURCE_VARIABLES, \n",
        "                           scope=\"generator\")"
      ],
      "execution_count": 0,
      "outputs": []
    },
    {
      "metadata": {
        "id": "i01KfV6Y3nq7",
        "colab_type": "code",
        "colab": {
          "base_uri": "https://localhost:8080/",
          "height": 439
        },
        "outputId": "8c77318d-536b-48b7-b715-5dcc8ea94207"
      },
      "cell_type": "code",
      "source": [
        "train_D = tf.train.AdamOptimizer().minimize(loss_D, var_list=vars_D)\n",
        "train_G = tf.train.AdamOptimizer().minimize(loss_G, var_list=vars_G)"
      ],
      "execution_count": 11,
      "outputs": [
        {
          "output_type": "error",
          "ename": "ValueError",
          "evalue": "ignored",
          "traceback": [
            "\u001b[0;31m---------------------------------------------------------------------------\u001b[0m",
            "\u001b[0;31mValueError\u001b[0m                                Traceback (most recent call last)",
            "\u001b[0;32m<ipython-input-11-ce8725c63b19>\u001b[0m in \u001b[0;36m<module>\u001b[0;34m()\u001b[0m\n\u001b[0;32m----> 1\u001b[0;31m \u001b[0mtrain_D\u001b[0m \u001b[0;34m=\u001b[0m \u001b[0mtf\u001b[0m\u001b[0;34m.\u001b[0m\u001b[0mtrain\u001b[0m\u001b[0;34m.\u001b[0m\u001b[0mAdamOptimizer\u001b[0m\u001b[0;34m(\u001b[0m\u001b[0;34m)\u001b[0m\u001b[0;34m.\u001b[0m\u001b[0mminimize\u001b[0m\u001b[0;34m(\u001b[0m\u001b[0mloss_D\u001b[0m\u001b[0;34m,\u001b[0m \u001b[0mvar_list\u001b[0m\u001b[0;34m=\u001b[0m\u001b[0mvars_D\u001b[0m\u001b[0;34m)\u001b[0m\u001b[0;34m\u001b[0m\u001b[0m\n\u001b[0m\u001b[1;32m      2\u001b[0m \u001b[0mtrain_G\u001b[0m \u001b[0;34m=\u001b[0m \u001b[0mtf\u001b[0m\u001b[0;34m.\u001b[0m\u001b[0mtrain\u001b[0m\u001b[0;34m.\u001b[0m\u001b[0mAdamOptimizer\u001b[0m\u001b[0;34m(\u001b[0m\u001b[0;34m)\u001b[0m\u001b[0;34m.\u001b[0m\u001b[0mminimize\u001b[0m\u001b[0;34m(\u001b[0m\u001b[0mloss_G\u001b[0m\u001b[0;34m,\u001b[0m \u001b[0mvar_list\u001b[0m\u001b[0;34m=\u001b[0m\u001b[0mvars_G\u001b[0m\u001b[0;34m)\u001b[0m\u001b[0;34m\u001b[0m\u001b[0m\n",
            "\u001b[0;32m/usr/local/lib/python3.6/dist-packages/tensorflow/python/training/optimizer.py\u001b[0m in \u001b[0;36mminimize\u001b[0;34m(self, loss, global_step, var_list, gate_gradients, aggregation_method, colocate_gradients_with_ops, name, grad_loss)\u001b[0m\n\u001b[1;32m    357\u001b[0m         \u001b[0maggregation_method\u001b[0m\u001b[0;34m=\u001b[0m\u001b[0maggregation_method\u001b[0m\u001b[0;34m,\u001b[0m\u001b[0;34m\u001b[0m\u001b[0m\n\u001b[1;32m    358\u001b[0m         \u001b[0mcolocate_gradients_with_ops\u001b[0m\u001b[0;34m=\u001b[0m\u001b[0mcolocate_gradients_with_ops\u001b[0m\u001b[0;34m,\u001b[0m\u001b[0;34m\u001b[0m\u001b[0m\n\u001b[0;32m--> 359\u001b[0;31m         grad_loss=grad_loss)\n\u001b[0m\u001b[1;32m    360\u001b[0m \u001b[0;34m\u001b[0m\u001b[0m\n\u001b[1;32m    361\u001b[0m     \u001b[0mvars_with_grad\u001b[0m \u001b[0;34m=\u001b[0m \u001b[0;34m[\u001b[0m\u001b[0mv\u001b[0m \u001b[0;32mfor\u001b[0m \u001b[0mg\u001b[0m\u001b[0;34m,\u001b[0m \u001b[0mv\u001b[0m \u001b[0;32min\u001b[0m \u001b[0mgrads_and_vars\u001b[0m \u001b[0;32mif\u001b[0m \u001b[0mg\u001b[0m \u001b[0;32mis\u001b[0m \u001b[0;32mnot\u001b[0m \u001b[0;32mNone\u001b[0m\u001b[0;34m]\u001b[0m\u001b[0;34m\u001b[0m\u001b[0m\n",
            "\u001b[0;32m/usr/local/lib/python3.6/dist-packages/tensorflow/python/training/optimizer.py\u001b[0m in \u001b[0;36mcompute_gradients\u001b[0;34m(self, loss, var_list, gate_gradients, aggregation_method, colocate_gradients_with_ops, grad_loss)\u001b[0m\n\u001b[1;32m    452\u001b[0m     \u001b[0mprocessors\u001b[0m \u001b[0;34m=\u001b[0m \u001b[0;34m[\u001b[0m\u001b[0m_get_processor\u001b[0m\u001b[0;34m(\u001b[0m\u001b[0mv\u001b[0m\u001b[0;34m)\u001b[0m \u001b[0;32mfor\u001b[0m \u001b[0mv\u001b[0m \u001b[0;32min\u001b[0m \u001b[0mvar_list\u001b[0m\u001b[0;34m]\u001b[0m\u001b[0;34m\u001b[0m\u001b[0m\n\u001b[1;32m    453\u001b[0m     \u001b[0;32mif\u001b[0m \u001b[0;32mnot\u001b[0m \u001b[0mvar_list\u001b[0m\u001b[0;34m:\u001b[0m\u001b[0;34m\u001b[0m\u001b[0m\n\u001b[0;32m--> 454\u001b[0;31m       \u001b[0;32mraise\u001b[0m \u001b[0mValueError\u001b[0m\u001b[0;34m(\u001b[0m\u001b[0;34m\"No variables to optimize.\"\u001b[0m\u001b[0;34m)\u001b[0m\u001b[0;34m\u001b[0m\u001b[0m\n\u001b[0m\u001b[1;32m    455\u001b[0m     \u001b[0mvar_refs\u001b[0m \u001b[0;34m=\u001b[0m \u001b[0;34m[\u001b[0m\u001b[0mp\u001b[0m\u001b[0;34m.\u001b[0m\u001b[0mtarget\u001b[0m\u001b[0;34m(\u001b[0m\u001b[0;34m)\u001b[0m \u001b[0;32mfor\u001b[0m \u001b[0mp\u001b[0m \u001b[0;32min\u001b[0m \u001b[0mprocessors\u001b[0m\u001b[0;34m]\u001b[0m\u001b[0;34m\u001b[0m\u001b[0m\n\u001b[1;32m    456\u001b[0m     grads = gradients.gradients(\n",
            "\u001b[0;31mValueError\u001b[0m: No variables to optimize."
          ]
        }
      ]
    },
    {
      "metadata": {
        "id": "lOn43-KY4hcq",
        "colab_type": "code",
        "colab": {
          "base_uri": "https://localhost:8080/",
          "height": 85
        },
        "outputId": "fc99e87d-3616-46ba-9d7f-344dfa14d375"
      },
      "cell_type": "code",
      "source": [
        "# GAN 모델을 이용해 단순히 랜덤한 숫자를 생성하는 아닌,\n",
        "# 원하는 손글씨 숫자를 생성하는 모델을 만들어봅니다.\n",
        "# 이런 방식으로 흑백 사진을 컬러로 만든다든가, 또는 선화를 채색한다든가 하는 응용이 가능합니다.\n",
        "import tensorflow as tf\n",
        "import matplotlib.pyplot as plt\n",
        "import numpy as np\n",
        "\n",
        "from tensorflow.examples.tutorials.mnist import input_data\n",
        "mnist = input_data.read_data_sets(\"./mnist/data/\", one_hot=True)\n",
        "\n",
        "#########\n",
        "# 옵션 설정\n",
        "######\n",
        "total_epoch = 100\n",
        "batch_size = 100\n",
        "n_hidden = 256\n",
        "n_input = 28 * 28\n",
        "n_noise = 128\n",
        "n_class = 10\n",
        "\n",
        "#########\n",
        "# 신경망 모델 구성\n",
        "######\n",
        "X = tf.placeholder(tf.float32, [None, n_input])\n",
        "# 노이즈와 실제 이미지에, 그에 해당하는 숫자에 대한 정보를 넣어주기 위해 사용합니다.\n",
        "Y = tf.placeholder(tf.float32, [None, n_class])\n",
        "Z = tf.placeholder(tf.float32, [None, n_noise])\n",
        "\n",
        "def generator(noise, labels):\n",
        "    with tf.variable_scope('generator'):\n",
        "        # noise 값에 labels 정보를 추가합니다.\n",
        "        inputs = tf.concat([noise, labels], 1)\n",
        "\n",
        "        # TensorFlow 에서 제공하는 유틸리티 함수를 이용해 신경망을 매우 간단하게 구성할 수 있습니다.\n",
        "        hidden = tf.layers.dense(inputs, n_hidden,\n",
        "                                 activation=tf.nn.relu)\n",
        "        output = tf.layers.dense(hidden, n_input,\n",
        "                                 activation=tf.nn.sigmoid)\n",
        "\n",
        "    return output\n",
        "\n",
        "\n",
        "def discriminator(inputs, labels, reuse=None):\n",
        "    with tf.variable_scope('discriminator') as scope:\n",
        "        # 노이즈에서 생성한 이미지와 실제 이미지를 판별하는 모델의 변수를 동일하게 하기 위해,\n",
        "        # 이전에 사용되었던 변수를 재사용하도록 합니다.\n",
        "        if reuse:\n",
        "            scope.reuse_variables()\n",
        "\n",
        "        inputs = tf.concat([inputs, labels], 1)\n",
        "\n",
        "        hidden = tf.layers.dense(inputs, n_hidden,\n",
        "                                 activation=tf.nn.relu)\n",
        "        output = tf.layers.dense(hidden, 1,\n",
        "                                 activation=None)\n",
        "\n",
        "    return output\n",
        "\n",
        "\n",
        "def get_noise(batch_size, n_noise):\n",
        "    return np.random.uniform(-1., 1., size=[batch_size, n_noise])\n",
        "\n",
        "# 생성 모델과 판별 모델에 Y 즉, labels 정보를 추가하여\n",
        "# labels 정보에 해당하는 이미지를 생성할 수 있도록 유도합니다.\n",
        "G = generator(Z, Y)\n",
        "D_real = discriminator(X, Y)\n",
        "D_gene = discriminator(G, Y, True)\n",
        "\n",
        "# 손실함수는 다음을 참고하여 GAN 논문에 나온 방식과는 약간 다르게 작성하였습니다.\n",
        "# http://bamos.github.io/2016/08/09/deep-completion/\n",
        "# 진짜 이미지를 판별하는 D_real 값은 1에 가깝도록,\n",
        "# 가짜 이미지를 판별하는 D_gene 값은 0에 가깝도록 하는 손실 함수입니다.\n",
        "loss_D_real = tf.reduce_mean(\n",
        "                    tf.nn.sigmoid_cross_entropy_with_logits(\n",
        "                        logits=D_real, labels=tf.ones_like(D_real)))\n",
        "loss_D_gene = tf.reduce_mean(\n",
        "                    tf.nn.sigmoid_cross_entropy_with_logits(\n",
        "                        logits=D_gene, labels=tf.zeros_like(D_gene)))\n",
        "# loss_D_real 과 loss_D_gene 을 더한 뒤 이 값을 최소화 하도록 최적화합니다.\n",
        "loss_D = loss_D_real + loss_D_gene\n",
        "# 가짜 이미지를 진짜에 가깝게 만들도록 생성망을 학습시키기 위해, D_gene 을 최대한 1에 가깝도록 만드는 손실함수입니다.\n",
        "loss_G = tf.reduce_mean(\n",
        "                    tf.nn.sigmoid_cross_entropy_with_logits(\n",
        "                        logits=D_gene, labels=tf.ones_like(D_gene)))\n",
        "\n",
        "# TensorFlow 에서 제공하는 유틸리티 함수를 이용해\n",
        "# discriminator 와 generator scope 에서 사용된 변수들을 쉽게 가져올 수 있습니다.\n",
        "vars_D = tf.get_collection(tf.GraphKeys.TRAINABLE_VARIABLES,\n",
        "                           scope='discriminator')\n",
        "vars_G = tf.get_collection(tf.GraphKeys.TRAINABLE_VARIABLES,\n",
        "                           scope='generator')\n",
        "\n",
        "train_D = tf.train.AdamOptimizer().minimize(loss_D,\n",
        "                                            var_list=vars_D)\n",
        "train_G = tf.train.AdamOptimizer().minimize(loss_G,\n",
        "                                            var_list=vars_G)"
      ],
      "execution_count": 1,
      "outputs": [
        {
          "output_type": "stream",
          "text": [
            "Extracting ./mnist/data/train-images-idx3-ubyte.gz\n",
            "Extracting ./mnist/data/train-labels-idx1-ubyte.gz\n",
            "Extracting ./mnist/data/t10k-images-idx3-ubyte.gz\n",
            "Extracting ./mnist/data/t10k-labels-idx1-ubyte.gz\n"
          ],
          "name": "stdout"
        }
      ]
    },
    {
      "metadata": {
        "id": "GHmrFOKj8yMd",
        "colab_type": "code",
        "colab": {}
      },
      "cell_type": "code",
      "source": [
        ""
      ],
      "execution_count": 0,
      "outputs": []
    }
  ]
}