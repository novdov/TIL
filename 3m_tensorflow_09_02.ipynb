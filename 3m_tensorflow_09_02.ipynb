{
  "nbformat": 4,
  "nbformat_minor": 0,
  "metadata": {
    "colab": {
      "name": "3m_tensorflow_09_02.ipynb",
      "version": "0.3.2",
      "provenance": [],
      "collapsed_sections": []
    },
    "kernelspec": {
      "name": "python3",
      "display_name": "Python 3"
    },
    "accelerator": "GPU"
  },
  "cells": [
    {
      "cell_type": "markdown",
      "metadata": {
        "id": "view-in-github",
        "colab_type": "text"
      },
      "source": [
        "[View in Colaboratory](https://colab.research.google.com/github/novdov/study/blob/master/3m_tensorflow_09_02.ipynb)"
      ]
    },
    {
      "metadata": {
        "id": "9B8s5stpzV-3",
        "colab_type": "code",
        "colab": {
          "base_uri": "https://localhost:8080/",
          "height": 85
        },
        "outputId": "53954161-c8b2-4c77-f277-9ee874b24aed"
      },
      "cell_type": "code",
      "source": [
        "import tensorflow as tf\n",
        "import matplotlib.pyplot as plt\n",
        "import numpy as np\n",
        "\n",
        "%matplotlib inline\n",
        "\n",
        "from tensorflow.examples.tutorials.mnist import input_data\n",
        "mnist = input_data.read_data_sets(\"./mnist/data\", one_hot=True)\n",
        "\n",
        "\n",
        "total_epoch = 100\n",
        "batch_size = 100\n",
        "n_hidden = 256\n",
        "n_input = 28 * 28\n",
        "n_noise = 128\n",
        "n_class = 10\n",
        "\n",
        "X = tf.placeholder(tf.float32, [None, n_input])\n",
        "Y = tf.placeholder(tf.float32, [None, n_class])\n",
        "Z = tf.placeholder(tf.float32, [None, n_noise])\n",
        "\n",
        "def generator(noise, labels):\n",
        "    with tf.variable_scope(\"generator\"):\n",
        "        inputs = tf.concat([noise, labels], 1)\n",
        "        \n",
        "        hidden = tf.layers.dense(inputs, n_hidden, \n",
        "                                 activation=tf.nn.relu)\n",
        "        output = tf.layers.dense(hidden, n_input, \n",
        "                                 activation=tf.nn.sigmoid)\n",
        "    return output\n",
        "\n",
        "\n",
        "def discriminator(inputs, labels, reuse=None):\n",
        "    with tf.variable_scope(\"discriminator\") as scope:\n",
        "        if reuse:\n",
        "            scope.reuse_variables()\n",
        "            \n",
        "        inputs = tf.concat([inputs, labels], 1)\n",
        "        hidden = tf.layers.dense(inputs, n_hidden, \n",
        "                                 activation=tf.nn.relu)\n",
        "        output = tf.layers.dense(hidden, 1, \n",
        "                                 activation=None)\n",
        "    return output\n",
        "\n",
        "\n",
        "def get_noise(batch_size, n_noise):\n",
        "    return np.random.uniform(-1., 1., size=[batch_size, n_noise])\n",
        "\n",
        "\n",
        "G = generator(Z, Y)\n",
        "D_real = discriminator(X, Y)\n",
        "D_gene = discriminator(G, Y, True)\n",
        "\n",
        "loss_D_real = tf.reduce_mean(\n",
        "    tf.nn.sigmoid_cross_entropy_with_logits(\n",
        "        logits=D_real, labels=tf.ones_like(D_real)))\n",
        "loss_D_gene = tf.reduce_mean(\n",
        "    tf.nn.sigmoid_cross_entropy_with_logits(\n",
        "        logits=D_gene, labels=tf.zeros_like(D_gene)))\n",
        "\n",
        "loss_D = loss_D_real + loss_D_gene\n",
        "\n",
        "loss_G = tf.reduce_mean(\n",
        "    tf.nn.sigmoid_cross_entropy_with_logits(\n",
        "        logits=D_gene, labels=tf.ones_like(D_gene)))\n",
        "\n",
        "vars_D = tf.get_collection(tf.GraphKeys.TRAINABLE_VARIABLES, \n",
        "                           scope=\"discriminator\")\n",
        "vars_G = tf.get_collection(tf.GraphKeys.TRAINABLE_VARIABLES, \n",
        "                           scope=\"generator\")\n",
        "\n",
        "train_D = tf.train.AdamOptimizer().minimize(loss_D, var_list=vars_D)\n",
        "train_G = tf.train.AdamOptimizer().minimize(loss_G, var_list=vars_G)"
      ],
      "execution_count": 1,
      "outputs": [
        {
          "output_type": "stream",
          "text": [
            "Extracting ./mnist/data/train-images-idx3-ubyte.gz\n",
            "Extracting ./mnist/data/train-labels-idx1-ubyte.gz\n",
            "Extracting ./mnist/data/t10k-images-idx3-ubyte.gz\n",
            "Extracting ./mnist/data/t10k-labels-idx1-ubyte.gz\n"
          ],
          "name": "stdout"
        }
      ]
    },
    {
      "metadata": {
        "id": "oYzLCcHFztnC",
        "colab_type": "code",
        "colab": {}
      },
      "cell_type": "code",
      "source": [
        ""
      ],
      "execution_count": 0,
      "outputs": []
    },
    {
      "metadata": {
        "id": "MCU8QB-L0Kky",
        "colab_type": "code",
        "colab": {}
      },
      "cell_type": "code",
      "source": [
        ""
      ],
      "execution_count": 0,
      "outputs": []
    },
    {
      "metadata": {
        "id": "FvwQ8e5H0vwz",
        "colab_type": "code",
        "colab": {}
      },
      "cell_type": "code",
      "source": [
        ""
      ],
      "execution_count": 0,
      "outputs": []
    },
    {
      "metadata": {
        "id": "KMXvHmbY04d2",
        "colab_type": "code",
        "colab": {}
      },
      "cell_type": "code",
      "source": [
        ""
      ],
      "execution_count": 0,
      "outputs": []
    },
    {
      "metadata": {
        "id": "vs-UhBNr1Uim",
        "colab_type": "code",
        "colab": {}
      },
      "cell_type": "code",
      "source": [
        ""
      ],
      "execution_count": 0,
      "outputs": []
    },
    {
      "metadata": {
        "id": "EOLQtAGz295H",
        "colab_type": "code",
        "colab": {}
      },
      "cell_type": "code",
      "source": [
        ""
      ],
      "execution_count": 0,
      "outputs": []
    },
    {
      "metadata": {
        "id": "OH-w7j393Nyc",
        "colab_type": "code",
        "colab": {}
      },
      "cell_type": "code",
      "source": [
        ""
      ],
      "execution_count": 0,
      "outputs": []
    },
    {
      "metadata": {
        "id": "lOn43-KY4hcq",
        "colab_type": "code",
        "colab": {
          "base_uri": "https://localhost:8080/",
          "height": 85
        },
        "outputId": "fc99e87d-3616-46ba-9d7f-344dfa14d375"
      },
      "cell_type": "code",
      "source": [
        ""
      ],
      "execution_count": 1,
      "outputs": [
        {
          "output_type": "stream",
          "text": [
            "Extracting ./mnist/data/train-images-idx3-ubyte.gz\n",
            "Extracting ./mnist/data/train-labels-idx1-ubyte.gz\n",
            "Extracting ./mnist/data/t10k-images-idx3-ubyte.gz\n",
            "Extracting ./mnist/data/t10k-labels-idx1-ubyte.gz\n"
          ],
          "name": "stdout"
        }
      ]
    },
    {
      "metadata": {
        "id": "GHmrFOKj8yMd",
        "colab_type": "code",
        "colab": {}
      },
      "cell_type": "code",
      "source": [
        ""
      ],
      "execution_count": 0,
      "outputs": []
    }
  ]
}